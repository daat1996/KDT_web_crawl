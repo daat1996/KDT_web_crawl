{
 "cells": [
  {
   "cell_type": "code",
   "execution_count": 1,
   "id": "8a36e6c9",
   "metadata": {},
   "outputs": [],
   "source": [
    "import re"
   ]
  },
  {
   "cell_type": "markdown",
   "id": "a4854c5b",
   "metadata": {},
   "source": [
    "compile() 사용 안함"
   ]
  },
  {
   "cell_type": "code",
   "execution_count": 2,
   "id": "21ca4577",
   "metadata": {},
   "outputs": [
    {
     "name": "stdout",
     "output_type": "stream",
     "text": [
      "None\n",
      "<re.Match object; span=(7, 12), match='apple'>\n"
     ]
    }
   ],
   "source": [
    "m = re.match('[a-z]+', 'Python')    # 정규식 객체 생성 안함\n",
    "print(m)\n",
    "print(re.search('apple','I like apple!'))    # 매번 패턴 입력"
   ]
  },
  {
   "cell_type": "markdown",
   "id": "ce99ebc7",
   "metadata": {},
   "source": [
    "compile() 사용"
   ]
  },
  {
   "cell_type": "code",
   "execution_count": 4,
   "id": "fd6912a9",
   "metadata": {},
   "outputs": [
    {
     "name": "stdout",
     "output_type": "stream",
     "text": [
      "<re.Match object; span=(0, 6), match='python'>\n",
      "<re.Match object; span=(2, 6), match='like'>\n"
     ]
    }
   ],
   "source": [
    "p = re.compile('[a-z]+')    # 알파벳 소문자\n",
    "m = p.match('python')          # 정규식 객체(p) 생성\n",
    "print(m)\n",
    "print(p.search('I like aplle 123'))       # 알파벳 소문자 패턴, 여러번 사용"
   ]
  },
  {
   "cell_type": "code",
   "execution_count": 5,
   "id": "8f762de9",
   "metadata": {},
   "outputs": [
    {
     "name": "stdout",
     "output_type": "stream",
     "text": [
      "<re.Match object; span=(0, 5), match='pytho'>\n"
     ]
    }
   ],
   "source": [
    "m = re.match('[a-z]+', 'pythoN')     # 소문자가 1개 이상\n",
    "print(m)"
   ]
  },
  {
   "cell_type": "code",
   "execution_count": 6,
   "id": "69e01c74",
   "metadata": {},
   "outputs": [
    {
     "name": "stdout",
     "output_type": "stream",
     "text": [
      "<re.Match object; span=(0, 5), match='regex'>\n",
      "None\n"
     ]
    }
   ],
   "source": [
    "print(re.match('[a-z]+','regex python'))\n",
    "print(re.match('[a-z]+',' regexpython'))           # 문자열 처음에 공백 포함"
   ]
  },
  {
   "cell_type": "code",
   "execution_count": 7,
   "id": "8313360b",
   "metadata": {},
   "outputs": [
    {
     "name": "stdout",
     "output_type": "stream",
     "text": [
      "<re.Match object; span=(0, 10), match='regexpytho'>\n",
      "None\n"
     ]
    }
   ],
   "source": [
    "print(re.match('[a-z]+','regexpythoN'))\n",
    "print(re.match('[a-z]+$','regexpythoN'))             # $: 문자열의 마지막 부분 검사"
   ]
  },
  {
   "cell_type": "code",
   "execution_count": 8,
   "id": "815cdcb8",
   "metadata": {},
   "outputs": [
    {
     "name": "stdout",
     "output_type": "stream",
     "text": [
      "<re.Match object; span=(0, 5), match='regex'>\n",
      "<re.Match object; span=(0, 11), match='regexpython'>\n"
     ]
    }
   ],
   "source": [
    "print(re.match('[a-z]+','regexPython'))\n",
    "print(re.match('[a-z]+$','regexpython'))"
   ]
  },
  {
   "cell_type": "code",
   "execution_count": 11,
   "id": "1ee203e4",
   "metadata": {},
   "outputs": [
    {
     "name": "stdout",
     "output_type": "stream",
     "text": [
      "None\n"
     ]
    }
   ],
   "source": [
    "print(re.match('[a-z]+$','regexpython'))"
   ]
  },
  {
   "cell_type": "markdown",
   "id": "8bd56421",
   "metadata": {},
   "source": [
    "findall() 함수\n",
    "    - 일치하는 모든 문자열을 리스트로 리턴"
   ]
  },
  {
   "cell_type": "code",
   "execution_count": 12,
   "id": "fb8af36c",
   "metadata": {},
   "outputs": [
    {
     "name": "stdout",
     "output_type": "stream",
     "text": [
      "['life', 'is', 'too', 'short', 'egular', 'expression', 'test']\n"
     ]
    }
   ],
   "source": [
    "print(p.findall('life is too short! Regular expression test'))"
   ]
  },
  {
   "cell_type": "markdown",
   "id": "f2861db2",
   "metadata": {},
   "source": [
    "search() 함수 - 일치하는 첫번째 문자열만 리턴"
   ]
  },
  {
   "cell_type": "code",
   "execution_count": 13,
   "id": "3940c24d",
   "metadata": {},
   "outputs": [
    {
     "name": "stdout",
     "output_type": "stream",
     "text": [
      "<re.Match object; span=(2, 6), match='like'>\n",
      "like\n"
     ]
    }
   ],
   "source": [
    "result = p.search('I like apple 123')\n",
    "print(result)\n",
    "print(result.group())         # group( ): 일치하는 전체 문자열 리턴"
   ]
  },
  {
   "cell_type": "code",
   "execution_count": 18,
   "id": "69bb6ebd",
   "metadata": {},
   "outputs": [
    {
     "name": "stdout",
     "output_type": "stream",
     "text": [
      "['like', 'apple']\n"
     ]
    }
   ],
   "source": [
    "result = p.findall('I like apple 123')\n",
    "print(result)"
   ]
  },
  {
   "cell_type": "markdown",
   "id": "f608d97d",
   "metadata": {},
   "source": [
    "여러번 사용할때 compile 함수를 사용"
   ]
  },
  {
   "cell_type": "code",
   "execution_count": 19,
   "id": "0ac4c0f1",
   "metadata": {},
   "outputs": [],
   "source": [
    "tel_checker = re.compile('^(\\d{2,3})-(\\d{3,4})-(\\d{4})$')"
   ]
  },
  {
   "cell_type": "code",
   "execution_count": 21,
   "id": "92fa70a7",
   "metadata": {},
   "outputs": [
    {
     "name": "stdout",
     "output_type": "stream",
     "text": [
      "<re.Match object; span=(0, 11), match='02-123-4567'>\n",
      "None\n",
      "None\n"
     ]
    }
   ],
   "source": [
    "print(tel_checker.match('02-123-4567'))\n",
    "print(tel_checker.match('053-950-45678'))          # 마지막 숫자 자릿수 안 맞음\n",
    "print(tel_checker.match('053950-4567'))            # - 없음"
   ]
  },
  {
   "cell_type": "code",
   "execution_count": 22,
   "id": "eae40d8e",
   "metadata": {},
   "outputs": [],
   "source": [
    "m=tel_checker.match('02-123-4567')"
   ]
  },
  {
   "cell_type": "code",
   "execution_count": 23,
   "id": "c3b4e2b1",
   "metadata": {},
   "outputs": [
    {
     "name": "stdout",
     "output_type": "stream",
     "text": [
      "('02', '123', '4567')\n",
      "group(): 02-123-4567\n",
      "group(0): 02-123-4567\n",
      "group(1): 02\n",
      "group(2,3): ('123', '4567')\n",
      "start(): 0\n",
      "end(): 11\n"
     ]
    }
   ],
   "source": [
    "print(m.groups())          # 튜플형태로\n",
    "print('group():', m.group())\n",
    "print('group(0):', m.group(0))\n",
    "print('group(1):', m.group(1))\n",
    "print('group(2,3):', m.group(2,3))\n",
    "print('start():', m.start())    # 매칭된 문자열의 시작 인덱스\n",
    "print('end():', m.end())    # 매칭된 문자열의 마지막 인덱스+1"
   ]
  },
  {
   "cell_type": "code",
   "execution_count": 24,
   "id": "8a897ee5",
   "metadata": {},
   "outputs": [],
   "source": [
    "# ?:0|1|[6-9] 뒤에 따라나오는 숫자를 하나의 그룹으로 합침\n",
    "cell_phone = re.compile('^(01(?:0|1|[6-9]))-(\\d{3,4})-(\\d{4})$')"
   ]
  },
  {
   "cell_type": "code",
   "execution_count": 25,
   "id": "b3e1dd02",
   "metadata": {},
   "outputs": [
    {
     "name": "stdout",
     "output_type": "stream",
     "text": [
      "<re.Match object; span=(0, 12), match='010-123-4567'>\n",
      "<re.Match object; span=(0, 13), match='010-1234-5678'>\n",
      "None\n",
      "None\n"
     ]
    }
   ],
   "source": [
    "print(cell_phone.match('010-123-4567'))\n",
    "print(cell_phone.match('010-1234-5678'))\n",
    "print(cell_phone.match('001-123-4567'))\n",
    "print(cell_phone.match('010-1234567'))"
   ]
  },
  {
   "cell_type": "markdown",
   "id": "abb50a48",
   "metadata": {},
   "source": [
    "### 전방 탐색"
   ]
  },
  {
   "cell_type": "markdown",
   "id": "e87749ed",
   "metadata": {},
   "source": [
    "   전방긍정 탐색  \n",
    "    - 패턴과 일치하는 문자열을 만나면 패턴 앞의 문자열 반환(?=패턴)  \n",
    "전방 부정 탐색  \n",
    "    - 패턴과 일치하지 않는 문자열을 만나면 패턴 앞의 문자열 반환(?!패턴)"
   ]
  },
  {
   "cell_type": "code",
   "execution_count": 28,
   "id": "248b264e",
   "metadata": {},
   "outputs": [
    {
     "name": "stdout",
     "output_type": "stream",
     "text": [
      "1000 \n",
      "<re.Match object; span=(0, 11), match='2023-01-26 '>\n"
     ]
    }
   ],
   "source": [
    "# 전방 긍정 탐색: (문자열이 won을 포함하고 있으면 won 앞의 문자열 리턴)\n",
    "lookahead1 = re.search('.+(?=won)', '1000 won')\n",
    "if(lookahead1 != None):\n",
    "    print(lookahead1.group())\n",
    "else:\n",
    "    print('None')\n",
    "lookahead2 = re.search('.+(?=am)', '2023-01-26 am 10:00:01')\n",
    "print(lookahead2)"
   ]
  },
  {
   "cell_type": "code",
   "execution_count": 29,
   "id": "43cd1b93",
   "metadata": {},
   "outputs": [
    {
     "name": "stdout",
     "output_type": "stream",
     "text": [
      "<re.Match object; span=(9, 13), match='5678'>\n"
     ]
    }
   ],
   "source": [
    "# 전방 부정 탐색 (?!): 4자리 숫자 다음에 '-'를 포함하지 않으면 앞의 문자열 리턴\n",
    "lookahead3 = re.search('\\d{4}(?!-)', '010-1234-5678')\n",
    "print(lookahead3)"
   ]
  },
  {
   "cell_type": "markdown",
   "id": "04c7bcae",
   "metadata": {},
   "source": [
    "### 후방 탐색"
   ]
  },
  {
   "cell_type": "markdown",
   "id": "acfdc289",
   "metadata": {},
   "source": [
    "후방 긍정 탐색  \n",
    "    - 패턴과 일치하는 문자열을 만나면 패턴 뒤의 문자열 반환: (?<=패턴)  \n",
    "후방 부정 탐색  \n",
    "    - 패턴과 일치하지 않는 문자열을 만나면 패턴뒤의 문자열 반환: (?<!패턴)"
   ]
  },
  {
   "cell_type": "code",
   "execution_count": 30,
   "id": "595a5ab5",
   "metadata": {},
   "outputs": [
    {
     "name": "stdout",
     "output_type": "stream",
     "text": [
      "<re.Match object; span=(13, 22), match=' 11:10:01'>\n",
      "<re.Match object; span=(4, 8), match=' $51'>\n"
     ]
    }
   ],
   "source": [
    "# 후방 긍정 탐색 ('am' 다음에 문자가 1개 이상 있으면, 해당 문자열 리턴)\n",
    "lookbehind1 = re.search('(?<=am).+', '2023-01-26 am 11:10:01')\n",
    "print(lookbehind1)\n",
    "\n",
    "lookbehind2 = re.search('(?<=:).+', 'USD: $51')\n",
    "print(lookbehind2)"
   ]
  },
  {
   "cell_type": "code",
   "execution_count": 31,
   "id": "e65620a6",
   "metadata": {},
   "outputs": [
    {
     "name": "stdout",
     "output_type": "stream",
     "text": [
      "<re.Match object; span=(15, 18), match='100'>\n"
     ]
    }
   ],
   "source": [
    "# 후방 부정 탐색('\\b': 공백) - 공백 다음에 $기호가 없고 숫자 1개이상이고 공백이 있는경우\n",
    "lookbehind4 = re.search(r'\\b(?<!\\$)\\d+\\b', 'I paid $30 for 100 apples.')\n",
    "print(lookbehind4)"
   ]
  },
  {
   "cell_type": "markdown",
   "id": "efeffc9d",
   "metadata": {},
   "source": [
    "### 정규표현식과 BeautifulSoup #1"
   ]
  },
  {
   "cell_type": "code",
   "execution_count": 32,
   "id": "e50f2c3e",
   "metadata": {},
   "outputs": [],
   "source": [
    "from urllib.request import urlopen\n",
    "from bs4 import BeautifulSoup"
   ]
  },
  {
   "cell_type": "code",
   "execution_count": 34,
   "id": "e33c3332",
   "metadata": {},
   "outputs": [],
   "source": [
    "html = urlopen('https://www.pythonscraping.com/pages/page3.html')\n",
    "soup = BeautifulSoup(html, 'html.parser')"
   ]
  },
  {
   "cell_type": "code",
   "execution_count": 35,
   "id": "0e82aa92",
   "metadata": {},
   "outputs": [],
   "source": [
    "# 정규식 : ('img.*\\.jpg'): img 다음에 임의의 한 문자가 0회 이상\n",
    "# - img.jpg, img1.jpg, imga.jpg 등\n",
    "img_tag = re.compile('/img/gifts/img.*.jpg')"
   ]
  },
  {
   "cell_type": "code",
   "execution_count": 36,
   "id": "3bc49cd7",
   "metadata": {},
   "outputs": [
    {
     "name": "stdout",
     "output_type": "stream",
     "text": [
      "<img src=\"../img/gifts/img1.jpg\"/> -> ['src'] 속성:../img/gifts/img1.jpg\n",
      "<img src=\"../img/gifts/img2.jpg\"/> -> ['src'] 속성:../img/gifts/img2.jpg\n",
      "<img src=\"../img/gifts/img3.jpg\"/> -> ['src'] 속성:../img/gifts/img3.jpg\n",
      "<img src=\"../img/gifts/img4.jpg\"/> -> ['src'] 속성:../img/gifts/img4.jpg\n",
      "<img src=\"../img/gifts/img6.jpg\"/> -> ['src'] 속성:../img/gifts/img6.jpg\n"
     ]
    }
   ],
   "source": [
    "# find_all() 에서 img의 src 속성값에 정규식 사용\n",
    "images = soup.find_all('img',{'src':img_tag})\n",
    "\n",
    "for image in images:\n",
    "    print(image, end=\" -> ['src'] 속성:\")\n",
    "    print(image['src'])"
   ]
  },
  {
   "cell_type": "markdown",
   "id": "05bddd0f",
   "metadata": {},
   "source": [
    "### 정규표현식과 BeautifulSoup #2"
   ]
  },
  {
   "cell_type": "code",
   "execution_count": 37,
   "id": "fb49b408",
   "metadata": {},
   "outputs": [],
   "source": [
    "# 대소문자 구분없이 특정 단어 검색"
   ]
  },
  {
   "cell_type": "code",
   "execution_count": 39,
   "id": "0b326481",
   "metadata": {},
   "outputs": [
    {
     "name": "stdout",
     "output_type": "stream",
     "text": [
      "the prince count :  7\n"
     ]
    }
   ],
   "source": [
    "html = urlopen('https://www.pythonscraping.com/pages/warandpeace.html')\n",
    "bs = BeautifulSoup(html, 'html.parser')\n",
    "\n",
    "princeList = bs.find_all(string='the prince')     # 소문자만 검색\n",
    "print('the prince count : ', len(princeList))"
   ]
  },
  {
   "cell_type": "code",
   "execution_count": 41,
   "id": "80cfbd1f",
   "metadata": {},
   "outputs": [
    {
     "name": "stdout",
     "output_type": "stream",
     "text": [
      "T|the prince count: 11\n"
     ]
    }
   ],
   "source": [
    "prince_List = bs.find_all(string=re.compile('[T|t]{1}he prince'))\n",
    "print('T|the prince count:', len(prince_List))"
   ]
  },
  {
   "cell_type": "code",
   "execution_count": null,
   "id": "a7139ff0",
   "metadata": {},
   "outputs": [],
   "source": []
  }
 ],
 "metadata": {
  "kernelspec": {
   "display_name": "Python 3 (ipykernel)",
   "language": "python",
   "name": "python3"
  },
  "language_info": {
   "codemirror_mode": {
    "name": "ipython",
    "version": 3
   },
   "file_extension": ".py",
   "mimetype": "text/x-python",
   "name": "python",
   "nbconvert_exporter": "python",
   "pygments_lexer": "ipython3",
   "version": "3.11.5"
  }
 },
 "nbformat": 4,
 "nbformat_minor": 5
}
